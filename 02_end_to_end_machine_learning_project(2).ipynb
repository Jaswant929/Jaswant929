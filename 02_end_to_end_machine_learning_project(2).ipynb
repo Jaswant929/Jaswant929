{
  "cells": [
    {
      "cell_type": "markdown",
      "metadata": {
        "id": "1gfWwB3hRt4l"
      },
      "source": [
        "  Building an SVM Classifier for MNIST with Hyperparameter Tuning and Comparative Analysis\n",
        "  "
      ]
    },
    {
      "cell_type": "markdown",
      "metadata": {
        "id": "ITIc4dOnRt4o"
      },
      "source": [
        "<table align=\"left\">\n",
        "  <td>\n",
        "    <a href=\"https://colab.research.google.com/github/ageron/handson-ml2/blob/master/02_end_to_end_machine_learning_project.ipynb\" target=\"_parent\"><img src=\"https://colab.research.google.com/assets/colab-badge.svg\" alt=\"Open In Colab\"/></a>\n",
        "  </td>\n",
        "  <td>\n",
        "    <a target=\"_blank\" href=\"https://kaggle.com/kernels/welcome?src=https://github.com/ageron/handson-ml2/blob/master/02_end_to_end_machine_learning_project.ipynb\"><img src=\"https://kaggle.com/static/images/open-in-kaggle.svg\" /></a>\n",
        "  </td>\n",
        "</table>"
      ]
    },
    {
      "cell_type": "markdown",
      "metadata": {
        "id": "49TfGTBwRt4r"
      },
      "source": [
        "Training an SVM Classifier on the MNIST Dataset"
      ]
    },
    {
      "cell_type": "code",
      "source": [
        "from sklearn.datasets import fetch_openml\n",
        "from sklearn.model_selection import train_test_split\n",
        "from sklearn.svm import SVC\n",
        "from sklearn.metrics import classification_report, accuracy_score\n",
        "import time\n",
        "\n",
        "# Load the MNIST dataset\n",
        "mnist = fetch_openml('mnist_784', version=1)\n",
        "X, y = mnist[\"data\"], mnist[\"target\"].astype(int)\n",
        "\n",
        "# Split the dataset into training and test sets\n",
        "X_train, X_test, y_train, y_test = train_test_split(X, y, test_size=0.2, random_state=42)\n",
        "\n",
        "# Train an initial SVM classifier using the default kernel (RBF)\n",
        "svm_clf = SVC(kernel='rbf', random_state=42)\n",
        "start_time = time.time()\n",
        "svm_clf.fit(X_train, y_train)\n",
        "training_time = time.time() - start_time\n",
        "\n",
        "# Predict and evaluate performance\n",
        "y_pred = svm_clf.predict(X_test)\n",
        "print(f\"SVM (RBF) Accuracy: {accuracy_score(y_test, y_pred):.4f}\")\n",
        "print(f\"Training Time: {training_time:.2f} seconds\")\n",
        "print(classification_report(y_test, y_pred))"
      ],
      "metadata": {
        "id": "yGaTsZ3DWqfk",
        "outputId": "2fbfd8fa-53ff-4209-eb8b-3e4434d90049",
        "colab": {
          "base_uri": "https://localhost:8080/"
        }
      },
      "execution_count": 1,
      "outputs": [
        {
          "output_type": "stream",
          "name": "stdout",
          "text": [
            "SVM (RBF) Accuracy: 0.9764\n",
            "Training Time: 314.49 seconds\n",
            "              precision    recall  f1-score   support\n",
            "\n",
            "           0       0.99      0.99      0.99      1343\n",
            "           1       0.98      0.99      0.99      1600\n",
            "           2       0.97      0.98      0.97      1380\n",
            "           3       0.97      0.97      0.97      1433\n",
            "           4       0.97      0.98      0.98      1295\n",
            "           5       0.98      0.97      0.97      1273\n",
            "           6       0.98      0.99      0.99      1396\n",
            "           7       0.97      0.97      0.97      1503\n",
            "           8       0.97      0.96      0.97      1357\n",
            "           9       0.97      0.96      0.97      1420\n",
            "\n",
            "    accuracy                           0.98     14000\n",
            "   macro avg       0.98      0.98      0.98     14000\n",
            "weighted avg       0.98      0.98      0.98     14000\n",
            "\n"
          ]
        }
      ]
    },
    {
      "cell_type": "markdown",
      "metadata": {
        "id": "5Jc4p5HPRt4w"
      },
      "source": [
        " Hyperparameter values for the SVM classifier.\n",
        "  Polynomial Kernel: Optimizing degree, C, and coef0"
      ]
    },
    {
      "cell_type": "code",
      "source": [
        "from sklearn.datasets import fetch_openml\n",
        "from sklearn.model_selection import train_test_split, GridSearchCV\n",
        "from sklearn.svm import SVC\n",
        "from sklearn.metrics import classification_report, accuracy_score\n",
        "import time\n",
        "\n",
        "# Load the MNIST dataset with error handling and data caching\n",
        "try:\n",
        "    mnist = fetch_openml('mnist_784', version=1, as_frame=False, cache=True)  # Cache data to avoid re-downloading\n",
        "except KeyboardInterrupt:\n",
        "    print(\"Download interrupted. Please try again later.\")\n",
        "except Exception as e:\n",
        "    print(f\"An error occurred: {e}\")\n",
        "\n",
        "# Continue processing if download was successful\n",
        "if 'mnist' in locals():\n",
        "    X, y = mnist[\"data\"], mnist[\"target\"].astype(int)\n",
        "\n",
        "    # Split the dataset into training and test sets\n",
        "    X_train, X_test, y_train, y_test = train_test_split(X, y, test_size=0.2, random_state=42)\n",
        "\n",
        "    # Train an initial SVM classifier using the default kernel (RBF)\n",
        "    svm_clf = SVC(kernel='rbf', random_state=42)\n",
        "    start_time = time.time()\n",
        "    svm_clf.fit(X_train, y_train)\n",
        "    training_time = time.time() - start_time\n",
        "\n",
        "    # Predict and evaluate performance\n",
        "    y_pred = svm_clf.predict(X_test)\n",
        "    print(f\"SVM (RBF) Accuracy: {accuracy_score(y_test, y_pred):.4f}\")\n",
        "    print(f\"Training Time: {training_time:.2f} seconds\")\n",
        "    print(classification_report(y_test, y_pred))\n",
        "\n",
        "    # Define parameter grid for Polynomial kernel\n",
        "    param_grid_poly = {\n",
        "        'kernel': ['poly'],\n",
        "        'C': [0.1, 1, 10],\n",
        "        'degree': [2, 3, 4],\n",
        "        'coef0': [0, 1, 10]\n",
        "    }\n",
        "\n",
        "    # Perform grid search for polynomial kernel\n",
        "    svm_poly = SVC()\n",
        "    grid_search_poly = GridSearchCV(svm_poly, param_grid_poly, cv=5, scoring='accuracy')\n",
        "    start_time_poly = time.time()\n",
        "    grid_search_poly.fit(X_train, y_train)  # X_train and y_train are now defined\n",
        "    training_time_poly = time.time() - start_time_poly\n",
        "\n",
        "    # Print best parameters and accuracy for Polynomial kernel\n",
        "    print(f\"Best Parameters (Polynomial Kernel): {grid_search_poly.best_params_}\")\n",
        "    print(f\"Best Accuracy (Polynomial Kernel): {grid_search_poly.best_score_:.4f}\")\n",
        "    print(f\"Training Time (Polynomial Kernel): {training_time_poly:.2f} seconds\")\n",
        "\n"
      ],
      "metadata": {
        "id": "R1W-tryNXTsr",
        "outputId": "f4e689dd-a219-4024-d0fd-0103b91cd0f4",
        "colab": {
          "base_uri": "https://localhost:8080/"
        }
      },
      "execution_count": null,
      "outputs": [
        {
          "output_type": "stream",
          "name": "stdout",
          "text": [
            "SVM (RBF) Accuracy: 0.9764\n",
            "Training Time: 281.37 seconds\n",
            "              precision    recall  f1-score   support\n",
            "\n",
            "           0       0.99      0.99      0.99      1343\n",
            "           1       0.98      0.99      0.99      1600\n",
            "           2       0.97      0.98      0.97      1380\n",
            "           3       0.97      0.97      0.97      1433\n",
            "           4       0.97      0.98      0.98      1295\n",
            "           5       0.98      0.97      0.97      1273\n",
            "           6       0.98      0.99      0.99      1396\n",
            "           7       0.97      0.97      0.97      1503\n",
            "           8       0.97      0.96      0.97      1357\n",
            "           9       0.97      0.96      0.97      1420\n",
            "\n",
            "    accuracy                           0.98     14000\n",
            "   macro avg       0.98      0.98      0.98     14000\n",
            "weighted avg       0.98      0.98      0.98     14000\n",
            "\n"
          ]
        }
      ]
    },
    {
      "cell_type": "code",
      "source": [
        "from sklearn.svm import SVC\n",
        "from sklearn.model_selection import GridSearchCV # Import GridSearchCV here\n",
        "import time\n",
        "from sklearn.datasets import fetch_openml # import fetch_openml to load the data\n",
        "from sklearn.model_selection import train_test_split # import train_test_split to split the data\n",
        "\n",
        "\n",
        "# Load the MNIST dataset\n",
        "mnist = fetch_openml('mnist_784', version=1)\n",
        "X, y = mnist[\"data\"], mnist[\"target\"].astype(int)\n",
        "\n",
        "# Split the dataset into training and test sets\n",
        "X_train, X_test, y_train, y_test = train_test_split(X, y, test_size=0.2, random_state=42)\n",
        "\n",
        "param_grid_rbf = {\n",
        "    'kernel': ['rbf'],\n",
        "    'C': [0.1, 1, 10],\n",
        "    'gamma': ['scale', 'auto']\n",
        "}\n",
        "\n",
        "# Perform grid search for RBF kernel\n",
        "svm_rbf = SVC()\n",
        "grid_search_rbf = GridSearchCV(svm_rbf, param_grid_rbf, cv=5, scoring='accuracy')\n",
        "start_time_rbf = time.time()\n",
        "grid_search_rbf.fit(X_train, y_train)  # Assuming X_train and y_train are defined elsewhere\n",
        "training_time_rbf = time.time() - start_time_rbf\n",
        "\n",
        "# Print best parameters and accuracy for RBF kernel\n",
        "print(f\"Best Parameters (RBF Kernel): {grid_search_rbf.best_params_}\")\n",
        "print(f\"Best Accuracy (RBF Kernel): {grid_search_rbf.best_score_:.4f}\")\n",
        "print(f\"Training Time (RBF Kernel): {training_time_rbf:.2f} seconds\")"
      ],
      "metadata": {
        "id": "VKY0fT18Xhuw"
      },
      "execution_count": null,
      "outputs": []
    },
    {
      "cell_type": "code",
      "source": [
        "# Import GridSearchCV at the top of this file\n",
        "from sklearn.model_selection import GridSearchCV, StratifiedKFold\n",
        "# Linear Kernel\n",
        "from sklearn.svm import SVC\n",
        "svm_linear = SVC(kernel='linear')\n",
        "svm_linear.fit(X_train, y_train)\n",
        "y_pred_linear = svm_linear.predict(X_test)\n",
        "\n",
        "# Define parameter grid for Polynomial kernel (ADD THIS)\n",
        "param_grid_poly = {\n",
        "    'kernel': ['poly'],\n",
        "    'C': [0.1, 1, 10],\n",
        "    'degree': [2, 3, 4],\n",
        "    'coef0': [0, 1, 10]\n",
        "}\n",
        "# Define parameter grid for RBF kernel\n",
        "param_grid_rbf = {\n",
        "    'kernel': ['rbf'],\n",
        "    'C': [0.1, 1, 10],\n",
        "    'gamma': ['scale', 'auto']\n",
        "}\n",
        "\n",
        "# Perform grid search for RBF kernel\n",
        "svm_rbf = SVC()\n",
        "# Use StratifiedKFold with a lower n_splits value for RBF kernel as well\n",
        "cv_rbf = StratifiedKFold(n_splits=2) # Reduced n_splits to 2 or any value less than your minimum class count\n",
        "grid_search_rbf = GridSearchCV(svm_rbf, param_grid_rbf, cv=cv_rbf, scoring='accuracy') # Changed cv=5 to cv=cv_rbf\n",
        "grid_search_rbf.fit(X_train, y_train)  # Assuming X_train and y_train are defined elsewhere\n",
        "# Polynomial Kernel (best from grid search)\n",
        "svm_poly = SVC()\n",
        "# Explicitly use StratifiedKFold with a lower n_splits value\n",
        "cv_poly = StratifiedKFold(n_splits=2) # Reduced n_splits to 2 or any value less than your minimum class count\n",
        "grid_search_poly = GridSearchCV(svm_poly, param_grid_poly, cv=cv_poly, scoring='accuracy') # Changed cv=cv to cv=cv_poly for clarity\n",
        "start_time_poly = time.time()\n",
        "grid_search_poly.fit(X_train, y_train)\n",
        "training_time_poly = time.time() - start_time_poly\n",
        "y_pred_poly = grid_search_poly.predict(X_test)\n",
        "\n",
        "\n",
        "# RBF Kernel (best from grid search)\n",
        "best_rbf = grid_search_rbf.best_estimator_\n",
        "y_pred_rbf = best_rbf.predict(X_test)\n",
        "\n",
        "# Print classification reports for all kernels\n",
        "print(\"Performance for Linear Kernel\")\n",
        "print(classification_report(y_test, y_pred_linear))\n",
        "\n",
        "print(\"Performance for Polynomial Kernel\")\n",
        "print(classification_report(y_test, y_pred_poly))\n",
        "\n",
        "print(\"Performance for RBF Kernel\")\n",
        "print(classification_report(y_test, y_pred_rbf))"
      ],
      "metadata": {
        "id": "_59lDA12Xj0V"
      },
      "execution_count": null,
      "outputs": []
    },
    {
      "cell_type": "markdown",
      "metadata": {
        "id": "olAlTuq0Rt4x"
      },
      "source": [
        " SVM with different kernels (Linear, Polynomial, and RBF)"
      ]
    },
    {
      "cell_type": "code",
      "source": [
        "from sklearn.neighbors import KNeighborsClassifier\n",
        "\n",
        "knn = KNeighborsClassifier(n_neighbors=3)\n",
        "start_time_knn = time.time()\n",
        "knn.fit(X_train, y_train)\n",
        "training_time_knn = time.time() - start_time_knn\n",
        "\n",
        "y_pred_knn = knn.predict(X_test)\n",
        "print(f\"KNN Accuracy: {accuracy_score(y_test, y_pred_knn):.4f}\")\n",
        "print(f\"Training Time (KNN): {training_time_knn:.2f} seconds\")\n",
        "print(classification_report(y_test, y_pred_knn))"
      ],
      "metadata": {
        "id": "MN7mT7HpX-Td",
        "outputId": "f39f555c-697e-40ad-8510-5add26f97335",
        "colab": {
          "base_uri": "https://localhost:8080/"
        }
      },
      "execution_count": 13,
      "outputs": [
        {
          "output_type": "stream",
          "name": "stdout",
          "text": [
            "KNN Accuracy: 0.0000\n",
            "Training Time (KNN): 0.00 seconds\n",
            "              precision    recall  f1-score   support\n",
            "\n",
            "           0       0.00      0.00      0.00       0.0\n",
            "           1       0.00      0.00      0.00       1.0\n",
            "\n",
            "    accuracy                           0.00       1.0\n",
            "   macro avg       0.00      0.00      0.00       1.0\n",
            "weighted avg       0.00      0.00      0.00       1.0\n",
            "\n"
          ]
        },
        {
          "output_type": "stream",
          "name": "stderr",
          "text": [
            "/usr/local/lib/python3.10/dist-packages/sklearn/metrics/_classification.py:1531: UndefinedMetricWarning: Precision is ill-defined and being set to 0.0 in labels with no predicted samples. Use `zero_division` parameter to control this behavior.\n",
            "  _warn_prf(average, modifier, f\"{metric.capitalize()} is\", len(result))\n",
            "/usr/local/lib/python3.10/dist-packages/sklearn/metrics/_classification.py:1531: UndefinedMetricWarning: Recall is ill-defined and being set to 0.0 in labels with no true samples. Use `zero_division` parameter to control this behavior.\n",
            "  _warn_prf(average, modifier, f\"{metric.capitalize()} is\", len(result))\n",
            "/usr/local/lib/python3.10/dist-packages/sklearn/metrics/_classification.py:1531: UndefinedMetricWarning: Precision is ill-defined and being set to 0.0 in labels with no predicted samples. Use `zero_division` parameter to control this behavior.\n",
            "  _warn_prf(average, modifier, f\"{metric.capitalize()} is\", len(result))\n",
            "/usr/local/lib/python3.10/dist-packages/sklearn/metrics/_classification.py:1531: UndefinedMetricWarning: Recall is ill-defined and being set to 0.0 in labels with no true samples. Use `zero_division` parameter to control this behavior.\n",
            "  _warn_prf(average, modifier, f\"{metric.capitalize()} is\", len(result))\n",
            "/usr/local/lib/python3.10/dist-packages/sklearn/metrics/_classification.py:1531: UndefinedMetricWarning: Precision is ill-defined and being set to 0.0 in labels with no predicted samples. Use `zero_division` parameter to control this behavior.\n",
            "  _warn_prf(average, modifier, f\"{metric.capitalize()} is\", len(result))\n",
            "/usr/local/lib/python3.10/dist-packages/sklearn/metrics/_classification.py:1531: UndefinedMetricWarning: Recall is ill-defined and being set to 0.0 in labels with no true samples. Use `zero_division` parameter to control this behavior.\n",
            "  _warn_prf(average, modifier, f\"{metric.capitalize()} is\", len(result))\n"
          ]
        }
      ]
    },
    {
      "cell_type": "code",
      "source": [
        "from sklearn.linear_model import SGDClassifier\n",
        "\n",
        "sgd = SGDClassifier(random_state=42)\n",
        "start_time_sgd = time.time()\n",
        "sgd.fit(X_train, y_train)\n",
        "training_time_sgd = time.time() - start_time_sgd\n",
        "\n",
        "y_pred_sgd = sgd.predict(X_test)\n",
        "print(f\"SGD Accuracy: {accuracy_score(y_test, y_pred_sgd):.4f}\")\n",
        "print(f\"Training Time (SGD): {training_time_sgd:.2f} seconds\")\n",
        "print(classification_report(y_test, y_pred_sgd))"
      ],
      "metadata": {
        "id": "qPdVzytwYAqx",
        "outputId": "ec6f353d-e9a9-4a66-9ad7-502dfe45dba7",
        "colab": {
          "base_uri": "https://localhost:8080/"
        }
      },
      "execution_count": 12,
      "outputs": [
        {
          "output_type": "stream",
          "name": "stdout",
          "text": [
            "SGD Accuracy: 1.0000\n",
            "Training Time (SGD): 0.01 seconds\n",
            "              precision    recall  f1-score   support\n",
            "\n",
            "           1       1.00      1.00      1.00         1\n",
            "\n",
            "    accuracy                           1.00         1\n",
            "   macro avg       1.00      1.00      1.00         1\n",
            "weighted avg       1.00      1.00      1.00         1\n",
            "\n"
          ]
        }
      ]
    },
    {
      "cell_type": "code",
      "source": [
        "from sklearn.ensemble import RandomForestClassifier\n",
        "from sklearn.metrics import classification_report # Import classification_report\n",
        "\n",
        "rf = RandomForestClassifier(random_state=42)\n",
        "start_time_rf = time.time()\n",
        "rf.fit(X_train, y_train)\n",
        "training_time_rf = time.time() - start_time_rf\n",
        "\n",
        "y_pred_rf = rf.predict(X_test)\n",
        "print(f\"Random Forest Accuracy: {accuracy_score(y_test, y_pred_rf):.4f}\")\n",
        "print(f\"Training Time (Random Forest): {training_time_rf:.2f} seconds\")\n",
        "print(classification_report(y_test, y_pred_rf))"
      ],
      "metadata": {
        "id": "FxHhAfubYFay",
        "outputId": "f049e433-0ad4-4e24-ff64-8427271f8d6c",
        "colab": {
          "base_uri": "https://localhost:8080/"
        }
      },
      "execution_count": 11,
      "outputs": [
        {
          "output_type": "stream",
          "name": "stdout",
          "text": [
            "Random Forest Accuracy: 0.0000\n",
            "Training Time (Random Forest): 0.41 seconds\n",
            "              precision    recall  f1-score   support\n",
            "\n",
            "           0       0.00      0.00      0.00       0.0\n",
            "           1       0.00      0.00      0.00       1.0\n",
            "\n",
            "    accuracy                           0.00       1.0\n",
            "   macro avg       0.00      0.00      0.00       1.0\n",
            "weighted avg       0.00      0.00      0.00       1.0\n",
            "\n"
          ]
        },
        {
          "output_type": "stream",
          "name": "stderr",
          "text": [
            "/usr/local/lib/python3.10/dist-packages/sklearn/metrics/_classification.py:1531: UndefinedMetricWarning: Precision is ill-defined and being set to 0.0 in labels with no predicted samples. Use `zero_division` parameter to control this behavior.\n",
            "  _warn_prf(average, modifier, f\"{metric.capitalize()} is\", len(result))\n",
            "/usr/local/lib/python3.10/dist-packages/sklearn/metrics/_classification.py:1531: UndefinedMetricWarning: Recall is ill-defined and being set to 0.0 in labels with no true samples. Use `zero_division` parameter to control this behavior.\n",
            "  _warn_prf(average, modifier, f\"{metric.capitalize()} is\", len(result))\n",
            "/usr/local/lib/python3.10/dist-packages/sklearn/metrics/_classification.py:1531: UndefinedMetricWarning: Precision is ill-defined and being set to 0.0 in labels with no predicted samples. Use `zero_division` parameter to control this behavior.\n",
            "  _warn_prf(average, modifier, f\"{metric.capitalize()} is\", len(result))\n",
            "/usr/local/lib/python3.10/dist-packages/sklearn/metrics/_classification.py:1531: UndefinedMetricWarning: Recall is ill-defined and being set to 0.0 in labels with no true samples. Use `zero_division` parameter to control this behavior.\n",
            "  _warn_prf(average, modifier, f\"{metric.capitalize()} is\", len(result))\n",
            "/usr/local/lib/python3.10/dist-packages/sklearn/metrics/_classification.py:1531: UndefinedMetricWarning: Precision is ill-defined and being set to 0.0 in labels with no predicted samples. Use `zero_division` parameter to control this behavior.\n",
            "  _warn_prf(average, modifier, f\"{metric.capitalize()} is\", len(result))\n",
            "/usr/local/lib/python3.10/dist-packages/sklearn/metrics/_classification.py:1531: UndefinedMetricWarning: Recall is ill-defined and being set to 0.0 in labels with no true samples. Use `zero_division` parameter to control this behavior.\n",
            "  _warn_prf(average, modifier, f\"{metric.capitalize()} is\", len(result))\n"
          ]
        }
      ]
    },
    {
      "cell_type": "markdown",
      "metadata": {
        "id": "kkpWzJtvRt45"
      },
      "source": [
        "Comparison\n"
      ]
    },
    {
      "cell_type": "code",
      "source": [
        "import matplotlib.pyplot as plt\n",
        "from sklearn.metrics import accuracy_score\n",
        "from sklearn.model_selection import train_test_split  # Import for splitting data\n",
        "from sklearn.svm import SVC, LinearSVC # Import the LinearSVC\n",
        "from sklearn.linear_model import SGDClassifier\n",
        "from sklearn.ensemble import RandomForestClassifier\n",
        "from sklearn.neighbors import KNeighborsClassifier\n",
        "import time\n",
        "\n",
        "\n",
        "# Assume you have your features in 'X' and target in 'y'\n",
        "# Replace 'X' and 'y' with your actual variable names\n",
        "# **Replace these with your actual data**\n",
        "X = [[1, 2], [3, 4], [5, 6], [7, 8]]  # Example features data - Replace with your data!\n",
        "y = [0, 1, 0, 1]  # Example target variable data - Replace with your data!\n",
        "\n",
        "# Split the data into training and testing sets\n",
        "X_train, X_test, y_train, y_test = train_test_split(X, y, test_size=0.2, random_state=42)  # Adjust test_size and random_state as needed\n",
        "\n",
        "# Linear SVM\n",
        "linear_svm = LinearSVC(random_state=42)  # Initialize LinearSVC\n",
        "start_time = time.time() # Capture the start time\n",
        "linear_svm.fit(X_train, y_train)  # Train the model\n",
        "training_time = time.time() - start_time # Calculate the training time\n",
        "y_pred_linear = linear_svm.predict(X_test)  # Predict on the test set\n",
        "\n",
        "\n",
        "# ... (Your existing code for other classifiers, like SVM (Poly), SVM (RBF), KNN, SGD, Random Forest)...\n",
        "# Example for SVM (Poly) - Adapt for other classifiers as needed:\n",
        "\n",
        "# Assuming you have code for SVM (Poly), SVM (RBF), KNN, SGD, and Random Forest\n",
        "# Make sure to define y_pred_poly, y_pred_rbf, y_pred_knn, y_pred_sgd, and y_pred_rf accordingly.\n",
        "\n",
        "#Import necessary libraries for other classification models\n",
        "from sklearn.svm import SVC\n",
        "\n",
        "#SVM with polynomial kernel\n",
        "poly_svm = SVC(kernel='poly', degree=3, random_state=42)  # Initialize polynomial SVM\n",
        "start_time_poly = time.time() # Capture the start time\n",
        "poly_svm.fit(X_train, y_train) # Train the model\n",
        "training_time_poly = time.time() - start_time_poly # Calculate the training time\n",
        "y_pred_poly = poly_svm.predict(X_test) # Predict on the test set\n",
        "\n",
        "#SVM with RBF kernel\n",
        "rbf_svm = SVC(kernel='rbf', random_state=42)  # Initialize RBF SVM\n",
        "start_time_rbf = time.time() # Capture the start time\n",
        "rbf_svm.fit(X_train, y_train) # Train the model\n",
        "training_time_rbf = time.time() - start_time_rbf # Calculate the training time\n",
        "y_pred_rbf = rbf_svm.predict(X_test) # Predict on the test set\n",
        "\n",
        "#KNN Classifier\n",
        "knn = KNeighborsClassifier(n_neighbors=3) # Initialize KNN classifier\n",
        "start_time_knn = time.time() # Capture the start time\n",
        "knn.fit(X_train, y_train) # Train the model\n",
        "training_time_knn = time.time() - start_time_knn # Calculate the training time\n",
        "y_pred_knn = knn.predict(X_test) # Predict on the test set\n",
        "\n",
        "#SGD Classifier\n",
        "sgd = SGDClassifier(random_state=42)  # Initialize SGD classifier\n",
        "start_time_sgd = time.time() # Capture the start time\n",
        "sgd.fit(X_train, y_train) # Train the model\n",
        "training_time_sgd = time.time() - start_time_sgd # Calculate the training time\n",
        "y\n",
        "\n"
      ],
      "metadata": {
        "id": "bNh-KNsEYfgk"
      },
      "execution_count": null,
      "outputs": []
    }
  ],
  "metadata": {
    "kernelspec": {
      "display_name": "Python 3",
      "language": "python",
      "name": "python3"
    },
    "language_info": {
      "codemirror_mode": {
        "name": "ipython",
        "version": 3
      },
      "file_extension": ".py",
      "mimetype": "text/x-python",
      "name": "python",
      "nbconvert_exporter": "python",
      "pygments_lexer": "ipython3",
      "version": "3.7.10"
    },
    "nav_menu": {
      "height": "279px",
      "width": "309px"
    },
    "toc": {
      "nav_menu": {},
      "number_sections": true,
      "sideBar": true,
      "skip_h1_title": false,
      "toc_cell": false,
      "toc_position": {},
      "toc_section_display": "block",
      "toc_window_display": false
    },
    "colab": {
      "provenance": []
    }
  },
  "nbformat": 4,
  "nbformat_minor": 0
}